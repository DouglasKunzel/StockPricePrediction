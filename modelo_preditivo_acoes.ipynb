{
 "cells": [
  {
   "cell_type": "code",
   "execution_count": 2,
   "id": "1f6692bd",
   "metadata": {},
   "outputs": [],
   "source": [
    "import numpy as np\n",
    "import pandas as pd\n",
    "from sklearn import preprocessing\n",
    "from sklearn.model_selection import train_test_split\n",
    "from sklearn.linear_model import LinearRegression"
   ]
  },
  {
   "cell_type": "code",
   "execution_count": 40,
   "id": "e4108633",
   "metadata": {},
   "outputs": [],
   "source": [
    "def prepare_data(df,forecast_col,forecast_out,test_size):\n",
    "    label = df[forecast_col].shift(-forecast_out) #criando nova coluna chamada label com as últimas 5 linhas são nan\n",
    "    X = np.array(df[[forecast_col]]) #criando a matriz de recursos\n",
    "    X = preprocessing.scale(X) #processando a matriz de recursos\n",
    "    X_lately = X[-forecast_out:] #criando a coluna que quero usar mais tarde no método de previsão\n",
    "    X = X[:-forecast_out] # X que conterá o treinamento e teste\n",
    "    label.dropna(inplace=True) #descartando valores NA\n",
    "    y = np.array(label)  # atribuindo Y\n",
    "    X_train, X_test, Y_train, Y_test = train_test_split(X, y, test_size=test_size, random_state=0) #validação cruzada\n",
    "\n",
    "    response = [X_train, X_test, Y_train, Y_test, X_lately]\n",
    "    return response"
   ]
  },
  {
   "cell_type": "code",
   "execution_count": 41,
   "id": "eec3fee7",
   "metadata": {},
   "outputs": [
    {
     "data": {
      "text/html": [
       "<div>\n",
       "<style scoped>\n",
       "    .dataframe tbody tr th:only-of-type {\n",
       "        vertical-align: middle;\n",
       "    }\n",
       "\n",
       "    .dataframe tbody tr th {\n",
       "        vertical-align: top;\n",
       "    }\n",
       "\n",
       "    .dataframe thead th {\n",
       "        text-align: right;\n",
       "    }\n",
       "</style>\n",
       "<table border=\"1\" class=\"dataframe\">\n",
       "  <thead>\n",
       "    <tr style=\"text-align: right;\">\n",
       "      <th></th>\n",
       "      <th>Date</th>\n",
       "      <th>Open</th>\n",
       "      <th>High</th>\n",
       "      <th>Low</th>\n",
       "      <th>Close</th>\n",
       "      <th>Adj Close</th>\n",
       "      <th>Volume</th>\n",
       "    </tr>\n",
       "  </thead>\n",
       "  <tbody>\n",
       "    <tr>\n",
       "      <th>0</th>\n",
       "      <td>2021-09-01</td>\n",
       "      <td>18.360001</td>\n",
       "      <td>18.860001</td>\n",
       "      <td>18.280001</td>\n",
       "      <td>18.680000</td>\n",
       "      <td>18.680000</td>\n",
       "      <td>22207800</td>\n",
       "    </tr>\n",
       "    <tr>\n",
       "      <th>1</th>\n",
       "      <td>2021-09-02</td>\n",
       "      <td>18.660000</td>\n",
       "      <td>18.660000</td>\n",
       "      <td>17.860001</td>\n",
       "      <td>18.010000</td>\n",
       "      <td>18.010000</td>\n",
       "      <td>26117200</td>\n",
       "    </tr>\n",
       "    <tr>\n",
       "      <th>2</th>\n",
       "      <td>2021-09-03</td>\n",
       "      <td>18.100000</td>\n",
       "      <td>18.900000</td>\n",
       "      <td>17.900000</td>\n",
       "      <td>18.900000</td>\n",
       "      <td>18.900000</td>\n",
       "      <td>46378200</td>\n",
       "    </tr>\n",
       "    <tr>\n",
       "      <th>3</th>\n",
       "      <td>2021-09-06</td>\n",
       "      <td>18.860001</td>\n",
       "      <td>19.500000</td>\n",
       "      <td>18.760000</td>\n",
       "      <td>19.480000</td>\n",
       "      <td>19.480000</td>\n",
       "      <td>18350600</td>\n",
       "    </tr>\n",
       "    <tr>\n",
       "      <th>4</th>\n",
       "      <td>2021-09-08</td>\n",
       "      <td>19.250000</td>\n",
       "      <td>19.330000</td>\n",
       "      <td>18.650000</td>\n",
       "      <td>18.790001</td>\n",
       "      <td>18.790001</td>\n",
       "      <td>36352200</td>\n",
       "    </tr>\n",
       "    <tr>\n",
       "      <th>...</th>\n",
       "      <td>...</td>\n",
       "      <td>...</td>\n",
       "      <td>...</td>\n",
       "      <td>...</td>\n",
       "      <td>...</td>\n",
       "      <td>...</td>\n",
       "      <td>...</td>\n",
       "    </tr>\n",
       "    <tr>\n",
       "      <th>246</th>\n",
       "      <td>2022-08-26</td>\n",
       "      <td>4.730000</td>\n",
       "      <td>4.760000</td>\n",
       "      <td>4.450000</td>\n",
       "      <td>4.580000</td>\n",
       "      <td>4.580000</td>\n",
       "      <td>152412400</td>\n",
       "    </tr>\n",
       "    <tr>\n",
       "      <th>247</th>\n",
       "      <td>2022-08-29</td>\n",
       "      <td>4.510000</td>\n",
       "      <td>4.690000</td>\n",
       "      <td>4.500000</td>\n",
       "      <td>4.520000</td>\n",
       "      <td>4.520000</td>\n",
       "      <td>140458000</td>\n",
       "    </tr>\n",
       "    <tr>\n",
       "      <th>248</th>\n",
       "      <td>2022-08-30</td>\n",
       "      <td>4.640000</td>\n",
       "      <td>4.730000</td>\n",
       "      <td>4.340000</td>\n",
       "      <td>4.510000</td>\n",
       "      <td>4.510000</td>\n",
       "      <td>175781100</td>\n",
       "    </tr>\n",
       "    <tr>\n",
       "      <th>249</th>\n",
       "      <td>2022-08-31</td>\n",
       "      <td>4.570000</td>\n",
       "      <td>4.620000</td>\n",
       "      <td>4.260000</td>\n",
       "      <td>4.270000</td>\n",
       "      <td>4.270000</td>\n",
       "      <td>182011400</td>\n",
       "    </tr>\n",
       "    <tr>\n",
       "      <th>250</th>\n",
       "      <td>2022-09-01</td>\n",
       "      <td>4.300000</td>\n",
       "      <td>4.370000</td>\n",
       "      <td>4.110000</td>\n",
       "      <td>4.300000</td>\n",
       "      <td>4.300000</td>\n",
       "      <td>140000400</td>\n",
       "    </tr>\n",
       "  </tbody>\n",
       "</table>\n",
       "<p>251 rows × 7 columns</p>\n",
       "</div>"
      ],
      "text/plain": [
       "           Date       Open       High        Low      Close  Adj Close  \\\n",
       "0    2021-09-01  18.360001  18.860001  18.280001  18.680000  18.680000   \n",
       "1    2021-09-02  18.660000  18.660000  17.860001  18.010000  18.010000   \n",
       "2    2021-09-03  18.100000  18.900000  17.900000  18.900000  18.900000   \n",
       "3    2021-09-06  18.860001  19.500000  18.760000  19.480000  19.480000   \n",
       "4    2021-09-08  19.250000  19.330000  18.650000  18.790001  18.790001   \n",
       "..          ...        ...        ...        ...        ...        ...   \n",
       "246  2022-08-26   4.730000   4.760000   4.450000   4.580000   4.580000   \n",
       "247  2022-08-29   4.510000   4.690000   4.500000   4.520000   4.520000   \n",
       "248  2022-08-30   4.640000   4.730000   4.340000   4.510000   4.510000   \n",
       "249  2022-08-31   4.570000   4.620000   4.260000   4.270000   4.270000   \n",
       "250  2022-09-01   4.300000   4.370000   4.110000   4.300000   4.300000   \n",
       "\n",
       "        Volume  \n",
       "0     22207800  \n",
       "1     26117200  \n",
       "2     46378200  \n",
       "3     18350600  \n",
       "4     36352200  \n",
       "..         ...  \n",
       "246  152412400  \n",
       "247  140458000  \n",
       "248  175781100  \n",
       "249  182011400  \n",
       "250  140000400  \n",
       "\n",
       "[251 rows x 7 columns]"
      ]
     },
     "execution_count": 41,
     "metadata": {},
     "output_type": "execute_result"
    }
   ],
   "source": [
    "df = pd.read_csv(\"MGLU3.SA.csv\")\n",
    "#df = df[df.symbol == \"GOOG\"]\n",
    "df"
   ]
  },
  {
   "cell_type": "code",
   "execution_count": 42,
   "id": "7c267938",
   "metadata": {},
   "outputs": [],
   "source": [
    "forecast_col = \"Close\"\n",
    "forecast_out = 5\n",
    "test_size = 0.3"
   ]
  },
  {
   "cell_type": "code",
   "execution_count": 43,
   "id": "e61d895a",
   "metadata": {},
   "outputs": [
    {
     "data": {
      "text/plain": [
       "LinearRegression()"
      ]
     },
     "execution_count": 43,
     "metadata": {},
     "output_type": "execute_result"
    }
   ],
   "source": [
    "X_train, X_test, Y_train, Y_test , X_lately =prepare_data(df,forecast_col,forecast_out,test_size); #calling the method were the cross validation and data preperation is in\n",
    "learner = LinearRegression() #definindo modelo de regressao linear\n",
    "\n",
    "learner.fit(X_train,Y_train) #treinando modelo de regressao linear"
   ]
  },
  {
   "cell_type": "code",
   "execution_count": 45,
   "id": "ead5f994",
   "metadata": {},
   "outputs": [
    {
     "name": "stdout",
     "output_type": "stream",
     "text": [
      "{'test_score': 0.9754039630731142, 'forecast_set': array([4.52138566, 4.46706036, 4.45800614, 4.24070492, 4.26786758])}\n"
     ]
    }
   ],
   "source": [
    "score=learner.score(X_test,Y_test)#testando modelo de regressao linear\n",
    "forecast= learner.predict(X_lately) #--\n",
    "response={}#creting json object\n",
    "response['test_score']=score\n",
    "response['forecast_set']=forecast\n",
    "\n",
    "print(response)"
   ]
  },
  {
   "cell_type": "code",
   "execution_count": 46,
   "id": "571c8fd1",
   "metadata": {},
   "outputs": [
    {
     "data": {
      "text/plain": [
       "array([[-0.57956033],\n",
       "       [-0.5937916 ],\n",
       "       [-0.59616348],\n",
       "       [-0.65308855],\n",
       "       [-0.64597291]])"
      ]
     },
     "execution_count": 46,
     "metadata": {},
     "output_type": "execute_result"
    }
   ],
   "source": [
    "X_lately"
   ]
  },
  {
   "cell_type": "code",
   "execution_count": null,
   "id": "0ee147b0",
   "metadata": {},
   "outputs": [],
   "source": []
  }
 ],
 "metadata": {
  "kernelspec": {
   "display_name": "Python 3 (ipykernel)",
   "language": "python",
   "name": "python3"
  },
  "language_info": {
   "codemirror_mode": {
    "name": "ipython",
    "version": 3
   },
   "file_extension": ".py",
   "mimetype": "text/x-python",
   "name": "python",
   "nbconvert_exporter": "python",
   "pygments_lexer": "ipython3",
   "version": "3.9.12"
  }
 },
 "nbformat": 4,
 "nbformat_minor": 5
}
